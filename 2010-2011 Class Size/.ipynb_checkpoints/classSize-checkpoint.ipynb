{
 "cells": [
  {
   "cell_type": "code",
   "execution_count": 2,
   "id": "897143f8-07ec-497e-9844-dfbdaa685c86",
   "metadata": {},
   "outputs": [
    {
     "data": {
      "text/plain": [
       "<module 'classSize' from 'C:\\\\Users\\\\Jason\\\\OneDrive\\\\Desktop\\\\Obinna-Jason-NwokeII-DataSciencePortfolio\\\\2010-2011 Class Size\\\\classSize.py'>"
      ]
     },
     "execution_count": 2,
     "metadata": {},
     "output_type": "execute_result"
    }
   ],
   "source": [
    "import classSize as cs\n",
    "from classSize import *\n",
    "from importlib import reload\n",
    "reload(cs)"
   ]
  },
  {
   "cell_type": "code",
   "execution_count": 3,
   "id": "6770d676-ab34-4948-b972-c8759ef092db",
   "metadata": {},
   "outputs": [
    {
     "data": {
      "text/html": [
       "<div>\n",
       "<style scoped>\n",
       "    .dataframe tbody tr th:only-of-type {\n",
       "        vertical-align: middle;\n",
       "    }\n",
       "\n",
       "    .dataframe tbody tr th {\n",
       "        vertical-align: top;\n",
       "    }\n",
       "\n",
       "    .dataframe thead th {\n",
       "        text-align: right;\n",
       "    }\n",
       "</style>\n",
       "<table border=\"1\" class=\"dataframe\">\n",
       "  <thead>\n",
       "    <tr style=\"text-align: right;\">\n",
       "      <th></th>\n",
       "      <th>CSD</th>\n",
       "      <th>BORO</th>\n",
       "      <th>GRADE</th>\n",
       "      <th>PROGRAM TYPE</th>\n",
       "      <th>CORE SUBJECT (MS CORE and 9-12 ONLY)</th>\n",
       "      <th>CORE COURSE (MS CORE and 9-12 ONLY)</th>\n",
       "      <th>SERVICE CATEGORY(K-9* ONLY)</th>\n",
       "      <th>NUMBER OF STUDENTS / SEATS FILLED</th>\n",
       "      <th>NUMBER OF SECTIONS</th>\n",
       "      <th>AVERAGE CLASS SIZE</th>\n",
       "    </tr>\n",
       "  </thead>\n",
       "  <tbody>\n",
       "    <tr>\n",
       "      <th>0</th>\n",
       "      <td>1</td>\n",
       "      <td>M</td>\n",
       "      <td>MS Core</td>\n",
       "      <td>GEN ED</td>\n",
       "      <td>ENGLISH</td>\n",
       "      <td>MS English Core</td>\n",
       "      <td>-</td>\n",
       "      <td>811</td>\n",
       "      <td>32</td>\n",
       "      <td>25.3</td>\n",
       "    </tr>\n",
       "    <tr>\n",
       "      <th>1</th>\n",
       "      <td>1</td>\n",
       "      <td>M</td>\n",
       "      <td>MS Core</td>\n",
       "      <td>GEN ED</td>\n",
       "      <td>MATH</td>\n",
       "      <td>MS Math Core</td>\n",
       "      <td>-</td>\n",
       "      <td>882</td>\n",
       "      <td>38</td>\n",
       "      <td>23.2</td>\n",
       "    </tr>\n",
       "    <tr>\n",
       "      <th>2</th>\n",
       "      <td>1</td>\n",
       "      <td>M</td>\n",
       "      <td>MS Core</td>\n",
       "      <td>GEN ED</td>\n",
       "      <td>MATH</td>\n",
       "      <td>Integrated Algebra</td>\n",
       "      <td>-</td>\n",
       "      <td>144</td>\n",
       "      <td>6</td>\n",
       "      <td>24.0</td>\n",
       "    </tr>\n",
       "    <tr>\n",
       "      <th>3</th>\n",
       "      <td>1</td>\n",
       "      <td>M</td>\n",
       "      <td>MS Core</td>\n",
       "      <td>GEN ED</td>\n",
       "      <td>SCIENCE</td>\n",
       "      <td>MS Science Core</td>\n",
       "      <td>-</td>\n",
       "      <td>877</td>\n",
       "      <td>37</td>\n",
       "      <td>23.7</td>\n",
       "    </tr>\n",
       "    <tr>\n",
       "      <th>4</th>\n",
       "      <td>1</td>\n",
       "      <td>M</td>\n",
       "      <td>MS Core</td>\n",
       "      <td>GEN ED</td>\n",
       "      <td>SCIENCE</td>\n",
       "      <td>Living Environment</td>\n",
       "      <td>-</td>\n",
       "      <td>103</td>\n",
       "      <td>4</td>\n",
       "      <td>25.8</td>\n",
       "    </tr>\n",
       "    <tr>\n",
       "      <th>5</th>\n",
       "      <td>1</td>\n",
       "      <td>M</td>\n",
       "      <td>MS Core</td>\n",
       "      <td>GEN ED</td>\n",
       "      <td>SOCIAL STUDIES</td>\n",
       "      <td>MS Social Studies Core</td>\n",
       "      <td>-</td>\n",
       "      <td>783</td>\n",
       "      <td>33</td>\n",
       "      <td>23.7</td>\n",
       "    </tr>\n",
       "    <tr>\n",
       "      <th>6</th>\n",
       "      <td>1</td>\n",
       "      <td>M</td>\n",
       "      <td>MS Core</td>\n",
       "      <td>GEN ED</td>\n",
       "      <td>SOCIAL STUDIES</td>\n",
       "      <td>Global History &amp; Geography</td>\n",
       "      <td>-</td>\n",
       "      <td>59</td>\n",
       "      <td>2</td>\n",
       "      <td>29.5</td>\n",
       "    </tr>\n",
       "    <tr>\n",
       "      <th>7</th>\n",
       "      <td>1</td>\n",
       "      <td>M</td>\n",
       "      <td>MS Core</td>\n",
       "      <td>GEN ED</td>\n",
       "      <td>SOCIAL STUDIES</td>\n",
       "      <td>US History &amp; Government</td>\n",
       "      <td>-</td>\n",
       "      <td>36</td>\n",
       "      <td>2</td>\n",
       "      <td>18.0</td>\n",
       "    </tr>\n",
       "    <tr>\n",
       "      <th>8</th>\n",
       "      <td>1</td>\n",
       "      <td>M</td>\n",
       "      <td>MS Core</td>\n",
       "      <td>GEN ED</td>\n",
       "      <td>SOCIAL STUDIES</td>\n",
       "      <td>Participation in Government</td>\n",
       "      <td>-</td>\n",
       "      <td>26</td>\n",
       "      <td>1</td>\n",
       "      <td>26.0</td>\n",
       "    </tr>\n",
       "    <tr>\n",
       "      <th>9</th>\n",
       "      <td>1</td>\n",
       "      <td>M</td>\n",
       "      <td>MS Core</td>\n",
       "      <td>CTT</td>\n",
       "      <td>ENGLISH</td>\n",
       "      <td>MS English Core</td>\n",
       "      <td>-</td>\n",
       "      <td>321</td>\n",
       "      <td>13</td>\n",
       "      <td>24.7</td>\n",
       "    </tr>\n",
       "  </tbody>\n",
       "</table>\n",
       "</div>"
      ],
      "text/plain": [
       "   CSD BORO   GRADE  PROGRAM TYPE CORE SUBJECT (MS CORE and 9-12 ONLY)  \\\n",
       "0    1    M  MS Core       GEN ED                              ENGLISH   \n",
       "1    1    M  MS Core       GEN ED                                 MATH   \n",
       "2    1    M  MS Core       GEN ED                                 MATH   \n",
       "3    1    M  MS Core       GEN ED                              SCIENCE   \n",
       "4    1    M  MS Core       GEN ED                              SCIENCE   \n",
       "5    1    M  MS Core       GEN ED                       SOCIAL STUDIES   \n",
       "6    1    M  MS Core       GEN ED                       SOCIAL STUDIES   \n",
       "7    1    M  MS Core       GEN ED                       SOCIAL STUDIES   \n",
       "8    1    M  MS Core       GEN ED                       SOCIAL STUDIES   \n",
       "9    1    M  MS Core          CTT                              ENGLISH   \n",
       "\n",
       "  CORE COURSE (MS CORE and 9-12 ONLY) SERVICE CATEGORY(K-9* ONLY)  \\\n",
       "0                     MS English Core                           -   \n",
       "1                        MS Math Core                           -   \n",
       "2                  Integrated Algebra                           -   \n",
       "3                     MS Science Core                           -   \n",
       "4                  Living Environment                           -   \n",
       "5              MS Social Studies Core                           -   \n",
       "6          Global History & Geography                           -   \n",
       "7             US History & Government                           -   \n",
       "8         Participation in Government                           -   \n",
       "9                     MS English Core                           -   \n",
       "\n",
       "   NUMBER OF STUDENTS / SEATS FILLED  NUMBER OF SECTIONS  AVERAGE CLASS SIZE  \n",
       "0                                811                  32                25.3  \n",
       "1                                882                  38                23.2  \n",
       "2                                144                   6                24.0  \n",
       "3                                877                  37                23.7  \n",
       "4                                103                   4                25.8  \n",
       "5                                783                  33                23.7  \n",
       "6                                 59                   2                29.5  \n",
       "7                                 36                   2                18.0  \n",
       "8                                 26                   1                26.0  \n",
       "9                                321                  13                24.7  "
      ]
     },
     "execution_count": 3,
     "metadata": {},
     "output_type": "execute_result"
    }
   ],
   "source": [
    "df = generate()\n",
    "df = df.drop(list(range(24))).reset_index(drop=True)\n",
    "df.head(10)"
   ]
  },
  {
   "cell_type": "code",
   "execution_count": 6,
   "id": "f666d791-cb84-4649-a5ed-8ea66a286e73",
   "metadata": {},
   "outputs": [
    {
     "name": "stdout",
     "output_type": "stream",
     "text": [
      "<class 'pandas.core.frame.DataFrame'>\n",
      "RangeIndex: 3311 entries, 0 to 3310\n",
      "Data columns (total 10 columns):\n",
      " #   Column                                Non-Null Count  Dtype  \n",
      "---  ------                                --------------  -----  \n",
      " 0   CSD                                   3311 non-null   int64  \n",
      " 1   BORO                                  3311 non-null   object \n",
      " 2   GRADE                                 3311 non-null   object \n",
      " 3   PROGRAM TYPE                          3311 non-null   object \n",
      " 4   CORE SUBJECT (MS CORE and 9-12 ONLY)  3311 non-null   object \n",
      " 5   CORE COURSE (MS CORE and 9-12 ONLY)   3311 non-null   object \n",
      " 6   SERVICE CATEGORY(K-9* ONLY)           3311 non-null   object \n",
      " 7   NUMBER OF STUDENTS / SEATS FILLED     3311 non-null   int64  \n",
      " 8   NUMBER OF SECTIONS                    3311 non-null   int64  \n",
      " 9   AVERAGE CLASS SIZE                    3311 non-null   float64\n",
      "dtypes: float64(1), int64(3), object(6)\n",
      "memory usage: 258.8+ KB\n"
     ]
    }
   ],
   "source": [
    "df.info()"
   ]
  },
  {
   "cell_type": "code",
   "execution_count": 33,
   "id": "a10a1bbb-376b-42b9-b0f8-8725a1e21fa8",
   "metadata": {},
   "outputs": [],
   "source": [
    "df['CORE SUBJECT (MS CORE and 9-12 ONLY)'].replace(\"-\", \"None\", inplace=True)"
   ]
  },
  {
   "cell_type": "code",
   "execution_count": 34,
   "id": "584717e1-6057-4f6e-8dc6-9da530a6dbfa",
   "metadata": {},
   "outputs": [
    {
     "data": {
      "text/plain": [
       "[Text(0.5, 0, 'Grade'),\n",
       " Text(0, 0.5, '# of Entries'),\n",
       " Text(0.5, 1.0, 'Distribution of Grades')]"
      ]
     },
     "execution_count": 34,
     "metadata": {},
     "output_type": "execute_result"
    },
    {
     "data": {
      "image/png": "[encoded data removed]",
      "text/plain": [
       "<Figure size 1440x432 with 1 Axes>"
      ]
     },
     "metadata": {},
     "output_type": "display_data"
    }
   ],
   "source": [
    "import matplotlib.pyplot as plt\n",
    "import seaborn as sns\n",
    "sns.set()\n",
    "df['GRADE '].value_counts().plot(kind='bar', figsize=(20, 6)).set(xlabel=\"Grade\", ylabel=\"# of Entries\", title=\"Distribution of Grades\")"
   ]
  },
  {
   "cell_type": "code",
   "execution_count": 35,
   "id": "fe3a2248-c3a9-408c-a1c1-460b5485ba85",
   "metadata": {},
   "outputs": [
    {
     "data": {
      "text/plain": [
       "[Text(0.5, 0, 'PROGRAM TYPE'),\n",
       " Text(0, 0.5, '# of Entries'),\n",
       " Text(0.5, 1.0, 'Distribution of Program Type')]"
      ]
     },
     "execution_count": 35,
     "metadata": {},
     "output_type": "execute_result"
    },
    {
     "data": {
      "image/png": "[encoded data removed]",
      "text/plain": [
       "<Figure size 720x432 with 1 Axes>"
      ]
     },
     "metadata": {},
     "output_type": "display_data"
    }
   ],
   "source": [
    "sns.set()\n",
    "df['PROGRAM TYPE'].value_counts().plot(kind='bar', figsize=(10, 6)).set(xlabel=\"PROGRAM TYPE\", ylabel=\"# of Entries\", title=\"Distribution of Program Type\")"
   ]
  },
  {
   "cell_type": "code",
   "execution_count": 36,
   "id": "dce4398a-c279-44ea-997f-230e940c4fe9",
   "metadata": {},
   "outputs": [
    {
     "data": {
      "text/plain": [
       "[Text(0.5, 0, 'CORE SUBJECT'),\n",
       " Text(0, 0.5, '# of Entries'),\n",
       " Text(0.5, 1.0, 'Distribution of Core Subject')]"
      ]
     },
     "execution_count": 36,
     "metadata": {},
     "output_type": "execute_result"
    },
    {
     "data": {
      "image/png": "[encoded data removed]",
      "text/plain": [
       "<Figure size 720x432 with 1 Axes>"
      ]
     },
     "metadata": {},
     "output_type": "display_data"
    }
   ],
   "source": [
    "sns.set()\n",
    "df['CORE SUBJECT (MS CORE and 9-12 ONLY)'].value_counts().plot(kind='bar', figsize=(10, 6)).set(xlabel=\"CORE SUBJECT\", ylabel=\"# of Entries\", title=\"Distribution of Core Subject\")"
   ]
  }
 ],
 "metadata": {
  "kernelspec": {
   "display_name": "Python 3",
   "language": "python",
   "name": "python3"
  },
  "language_info": {
   "codemirror_mode": {
    "name": "ipython",
    "version": 3
   },
   "file_extension": ".py",
   "mimetype": "text/x-python",
   "name": "python",
   "nbconvert_exporter": "python",
   "pygments_lexer": "ipython3",
   "version": "3.8.8"
  }
 },
 "nbformat": 4,
 "nbformat_minor": 5
}
