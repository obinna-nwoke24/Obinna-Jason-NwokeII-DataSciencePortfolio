{
 "cells": [
  {
   "cell_type": "markdown",
   "id": "053917ec-d7c6-415f-9bf6-6b6ad79e99c8",
   "metadata": {},
   "source": [
    "# Heart Data\n",
    "This data is pulled from data.gov to practice machine learning models and data processing.\n",
    "\n",
    "#### Author\n",
    "Obinna Jason Nwoke II  \n",
    "Purpose: Practicing and understanding Machine Learning Models using real-world data\n",
    "\n",
    "#### Disclaimer\n",
    "My findings were not and are not to be used to diagnose real patients. This is just a practice example to showcase my knowledge   \n",
    "and understanding of ML models and data.\n",
    "\n",
    "### Understanding our data\n",
    "We are going to refer to each patient (row) as a *record*\n",
    "Each record has the following:\n",
    "\n",
    "- Age - The age of the person\n",
    "- Sex - The gender of the person (Male or Female)\n",
    "- ChestPainType - The type of the chest pain\n",
    "- RestingBP - Resting blood pressure (normal is < 120/80 mmHG) Source: [CDC](https://www.cdc.gov)\n",
    "- Cholesterol - Blood test that measures the amount of cholesterol and certain fats in your blood.\n",
    "    - normal levels: < 200 mg/dl [Uptodate](https://www.uptodate.com)\n",
    "- FastingBS - A measure of glucose in the bloodstream (normal is < 99mg/dL) Source: [CDC](https://www.cdc.gov)\n",
    "- RestingECG - Measures your heart's electrical function\n",
    "- MaxHR - A person's max heart rate\n",
    "- ExerciseAngina - The pain in the chest that results from exercise, stress, or other things that make the heart work harder [Harvard Health](https://www.health.harvard.edu)\n",
    "- Oldpeak - ST depression induced by exercise relative to rest [TowardsDataScience](https://towardsdatascience.com)\n",
    "    - 0: downsloping\n",
    "    - 1: flat\n",
    "    - 2: upsloping\n",
    "- ST_Slope - ST segnemnt shift relative to exercise-induced increments in heart rate\n",
    "- Heart Disease - If the record has a heart disease (0 for no, 1 for yes)\n",
    "\n",
    "### We are looking to find out if a patient has a heart disease (1) or if they don't (0)"
   ]
  },
  {
   "cell_type": "code",
   "execution_count": 364,
   "id": "78711631-b4ec-404c-a4aa-6a45336781ec",
   "metadata": {},
   "outputs": [
    {
     "data": {
      "text/html": [
       "<div>\n",
       "<style scoped>\n",
       "    .dataframe tbody tr th:only-of-type {\n",
       "        vertical-align: middle;\n",
       "    }\n",
       "\n",
       "    .dataframe tbody tr th {\n",
       "        vertical-align: top;\n",
       "    }\n",
       "\n",
       "    .dataframe thead th {\n",
       "        text-align: right;\n",
       "    }\n",
       "</style>\n",
       "<table border=\"1\" class=\"dataframe\">\n",
       "  <thead>\n",
       "    <tr style=\"text-align: right;\">\n",
       "      <th></th>\n",
       "      <th>Age</th>\n",
       "      <th>Sex</th>\n",
       "      <th>ChestPainType</th>\n",
       "      <th>RestingBP</th>\n",
       "      <th>Cholesterol</th>\n",
       "      <th>FastingBS</th>\n",
       "      <th>RestingECG</th>\n",
       "      <th>MaxHR</th>\n",
       "      <th>ExerciseAngina</th>\n",
       "      <th>Oldpeak</th>\n",
       "      <th>ST_Slope</th>\n",
       "      <th>HeartDisease</th>\n",
       "    </tr>\n",
       "  </thead>\n",
       "  <tbody>\n",
       "    <tr>\n",
       "      <th>0</th>\n",
       "      <td>40</td>\n",
       "      <td>M</td>\n",
       "      <td>ATA</td>\n",
       "      <td>140</td>\n",
       "      <td>289</td>\n",
       "      <td>0</td>\n",
       "      <td>Normal</td>\n",
       "      <td>172</td>\n",
       "      <td>N</td>\n",
       "      <td>0.0</td>\n",
       "      <td>Up</td>\n",
       "      <td>0</td>\n",
       "    </tr>\n",
       "    <tr>\n",
       "      <th>1</th>\n",
       "      <td>49</td>\n",
       "      <td>F</td>\n",
       "      <td>NAP</td>\n",
       "      <td>160</td>\n",
       "      <td>180</td>\n",
       "      <td>0</td>\n",
       "      <td>Normal</td>\n",
       "      <td>156</td>\n",
       "      <td>N</td>\n",
       "      <td>1.0</td>\n",
       "      <td>Flat</td>\n",
       "      <td>1</td>\n",
       "    </tr>\n",
       "    <tr>\n",
       "      <th>2</th>\n",
       "      <td>37</td>\n",
       "      <td>M</td>\n",
       "      <td>ATA</td>\n",
       "      <td>130</td>\n",
       "      <td>283</td>\n",
       "      <td>0</td>\n",
       "      <td>ST</td>\n",
       "      <td>98</td>\n",
       "      <td>N</td>\n",
       "      <td>0.0</td>\n",
       "      <td>Up</td>\n",
       "      <td>0</td>\n",
       "    </tr>\n",
       "    <tr>\n",
       "      <th>3</th>\n",
       "      <td>48</td>\n",
       "      <td>F</td>\n",
       "      <td>ASY</td>\n",
       "      <td>138</td>\n",
       "      <td>214</td>\n",
       "      <td>0</td>\n",
       "      <td>Normal</td>\n",
       "      <td>108</td>\n",
       "      <td>Y</td>\n",
       "      <td>1.5</td>\n",
       "      <td>Flat</td>\n",
       "      <td>1</td>\n",
       "    </tr>\n",
       "    <tr>\n",
       "      <th>4</th>\n",
       "      <td>54</td>\n",
       "      <td>M</td>\n",
       "      <td>NAP</td>\n",
       "      <td>150</td>\n",
       "      <td>195</td>\n",
       "      <td>0</td>\n",
       "      <td>Normal</td>\n",
       "      <td>122</td>\n",
       "      <td>N</td>\n",
       "      <td>0.0</td>\n",
       "      <td>Up</td>\n",
       "      <td>0</td>\n",
       "    </tr>\n",
       "    <tr>\n",
       "      <th>5</th>\n",
       "      <td>39</td>\n",
       "      <td>M</td>\n",
       "      <td>NAP</td>\n",
       "      <td>120</td>\n",
       "      <td>339</td>\n",
       "      <td>0</td>\n",
       "      <td>Normal</td>\n",
       "      <td>170</td>\n",
       "      <td>N</td>\n",
       "      <td>0.0</td>\n",
       "      <td>Up</td>\n",
       "      <td>0</td>\n",
       "    </tr>\n",
       "    <tr>\n",
       "      <th>6</th>\n",
       "      <td>45</td>\n",
       "      <td>F</td>\n",
       "      <td>ATA</td>\n",
       "      <td>130</td>\n",
       "      <td>237</td>\n",
       "      <td>0</td>\n",
       "      <td>Normal</td>\n",
       "      <td>170</td>\n",
       "      <td>N</td>\n",
       "      <td>0.0</td>\n",
       "      <td>Up</td>\n",
       "      <td>0</td>\n",
       "    </tr>\n",
       "    <tr>\n",
       "      <th>7</th>\n",
       "      <td>54</td>\n",
       "      <td>M</td>\n",
       "      <td>ATA</td>\n",
       "      <td>110</td>\n",
       "      <td>208</td>\n",
       "      <td>0</td>\n",
       "      <td>Normal</td>\n",
       "      <td>142</td>\n",
       "      <td>N</td>\n",
       "      <td>0.0</td>\n",
       "      <td>Up</td>\n",
       "      <td>0</td>\n",
       "    </tr>\n",
       "    <tr>\n",
       "      <th>8</th>\n",
       "      <td>37</td>\n",
       "      <td>M</td>\n",
       "      <td>ASY</td>\n",
       "      <td>140</td>\n",
       "      <td>207</td>\n",
       "      <td>0</td>\n",
       "      <td>Normal</td>\n",
       "      <td>130</td>\n",
       "      <td>Y</td>\n",
       "      <td>1.5</td>\n",
       "      <td>Flat</td>\n",
       "      <td>1</td>\n",
       "    </tr>\n",
       "    <tr>\n",
       "      <th>9</th>\n",
       "      <td>48</td>\n",
       "      <td>F</td>\n",
       "      <td>ATA</td>\n",
       "      <td>120</td>\n",
       "      <td>284</td>\n",
       "      <td>0</td>\n",
       "      <td>Normal</td>\n",
       "      <td>120</td>\n",
       "      <td>N</td>\n",
       "      <td>0.0</td>\n",
       "      <td>Up</td>\n",
       "      <td>0</td>\n",
       "    </tr>\n",
       "  </tbody>\n",
       "</table>\n",
       "</div>"
      ],
      "text/plain": [
       "   Age Sex ChestPainType  RestingBP  Cholesterol  FastingBS RestingECG  MaxHR  \\\n",
       "0   40   M           ATA        140          289          0     Normal    172   \n",
       "1   49   F           NAP        160          180          0     Normal    156   \n",
       "2   37   M           ATA        130          283          0         ST     98   \n",
       "3   48   F           ASY        138          214          0     Normal    108   \n",
       "4   54   M           NAP        150          195          0     Normal    122   \n",
       "5   39   M           NAP        120          339          0     Normal    170   \n",
       "6   45   F           ATA        130          237          0     Normal    170   \n",
       "7   54   M           ATA        110          208          0     Normal    142   \n",
       "8   37   M           ASY        140          207          0     Normal    130   \n",
       "9   48   F           ATA        120          284          0     Normal    120   \n",
       "\n",
       "  ExerciseAngina  Oldpeak ST_Slope  HeartDisease  \n",
       "0              N      0.0       Up             0  \n",
       "1              N      1.0     Flat             1  \n",
       "2              N      0.0       Up             0  \n",
       "3              Y      1.5     Flat             1  \n",
       "4              N      0.0       Up             0  \n",
       "5              N      0.0       Up             0  \n",
       "6              N      0.0       Up             0  \n",
       "7              N      0.0       Up             0  \n",
       "8              Y      1.5     Flat             1  \n",
       "9              N      0.0       Up             0  "
      ]
     },
     "execution_count": 364,
     "metadata": {},
     "output_type": "execute_result"
    }
   ],
   "source": [
    "%matplotlib inline\n",
    "import pandas as pd\n",
    "import matplotlib.pyplot as plt\n",
    "import seaborn as sns\n",
    "\n",
    "file = './heart.csv'\n",
    "heart_data = pd.read_csv(file)\n",
    "heart_data.head(10)"
   ]
  },
  {
   "cell_type": "markdown",
   "id": "6f01934d-b64a-4bd7-85cb-f358d2353b78",
   "metadata": {},
   "source": [
    "#### Exploring the data"
   ]
  },
  {
   "cell_type": "code",
   "execution_count": 365,
   "id": "9fd5c460-bcc5-4394-9c84-52c92701f0b3",
   "metadata": {},
   "outputs": [
    {
     "data": {
      "text/html": [
       "<div>\n",
       "<style scoped>\n",
       "    .dataframe tbody tr th:only-of-type {\n",
       "        vertical-align: middle;\n",
       "    }\n",
       "\n",
       "    .dataframe tbody tr th {\n",
       "        vertical-align: top;\n",
       "    }\n",
       "\n",
       "    .dataframe thead th {\n",
       "        text-align: right;\n",
       "    }\n",
       "</style>\n",
       "<table border=\"1\" class=\"dataframe\">\n",
       "  <thead>\n",
       "    <tr style=\"text-align: right;\">\n",
       "      <th></th>\n",
       "      <th>Age</th>\n",
       "      <th>RestingBP</th>\n",
       "      <th>Cholesterol</th>\n",
       "      <th>FastingBS</th>\n",
       "      <th>MaxHR</th>\n",
       "      <th>Oldpeak</th>\n",
       "      <th>HeartDisease</th>\n",
       "    </tr>\n",
       "  </thead>\n",
       "  <tbody>\n",
       "    <tr>\n",
       "      <th>count</th>\n",
       "      <td>918.000000</td>\n",
       "      <td>918.000000</td>\n",
       "      <td>918.000000</td>\n",
       "      <td>918.000000</td>\n",
       "      <td>918.000000</td>\n",
       "      <td>918.000000</td>\n",
       "      <td>918.000000</td>\n",
       "    </tr>\n",
       "    <tr>\n",
       "      <th>mean</th>\n",
       "      <td>53.510893</td>\n",
       "      <td>132.396514</td>\n",
       "      <td>198.799564</td>\n",
       "      <td>0.233115</td>\n",
       "      <td>136.809368</td>\n",
       "      <td>0.887364</td>\n",
       "      <td>0.553377</td>\n",
       "    </tr>\n",
       "    <tr>\n",
       "      <th>std</th>\n",
       "      <td>9.432617</td>\n",
       "      <td>18.514154</td>\n",
       "      <td>109.384145</td>\n",
       "      <td>0.423046</td>\n",
       "      <td>25.460334</td>\n",
       "      <td>1.066570</td>\n",
       "      <td>0.497414</td>\n",
       "    </tr>\n",
       "    <tr>\n",
       "      <th>min</th>\n",
       "      <td>28.000000</td>\n",
       "      <td>0.000000</td>\n",
       "      <td>0.000000</td>\n",
       "      <td>0.000000</td>\n",
       "      <td>60.000000</td>\n",
       "      <td>-2.600000</td>\n",
       "      <td>0.000000</td>\n",
       "    </tr>\n",
       "    <tr>\n",
       "      <th>25%</th>\n",
       "      <td>47.000000</td>\n",
       "      <td>120.000000</td>\n",
       "      <td>173.250000</td>\n",
       "      <td>0.000000</td>\n",
       "      <td>120.000000</td>\n",
       "      <td>0.000000</td>\n",
       "      <td>0.000000</td>\n",
       "    </tr>\n",
       "    <tr>\n",
       "      <th>50%</th>\n",
       "      <td>54.000000</td>\n",
       "      <td>130.000000</td>\n",
       "      <td>223.000000</td>\n",
       "      <td>0.000000</td>\n",
       "      <td>138.000000</td>\n",
       "      <td>0.600000</td>\n",
       "      <td>1.000000</td>\n",
       "    </tr>\n",
       "    <tr>\n",
       "      <th>75%</th>\n",
       "      <td>60.000000</td>\n",
       "      <td>140.000000</td>\n",
       "      <td>267.000000</td>\n",
       "      <td>0.000000</td>\n",
       "      <td>156.000000</td>\n",
       "      <td>1.500000</td>\n",
       "      <td>1.000000</td>\n",
       "    </tr>\n",
       "    <tr>\n",
       "      <th>max</th>\n",
       "      <td>77.000000</td>\n",
       "      <td>200.000000</td>\n",
       "      <td>603.000000</td>\n",
       "      <td>1.000000</td>\n",
       "      <td>202.000000</td>\n",
       "      <td>6.200000</td>\n",
       "      <td>1.000000</td>\n",
       "    </tr>\n",
       "  </tbody>\n",
       "</table>\n",
       "</div>"
      ],
      "text/plain": [
       "              Age   RestingBP  Cholesterol   FastingBS       MaxHR  \\\n",
       "count  918.000000  918.000000   918.000000  918.000000  918.000000   \n",
       "mean    53.510893  132.396514   198.799564    0.233115  136.809368   \n",
       "std      9.432617   18.514154   109.384145    0.423046   25.460334   \n",
       "min     28.000000    0.000000     0.000000    0.000000   60.000000   \n",
       "25%     47.000000  120.000000   173.250000    0.000000  120.000000   \n",
       "50%     54.000000  130.000000   223.000000    0.000000  138.000000   \n",
       "75%     60.000000  140.000000   267.000000    0.000000  156.000000   \n",
       "max     77.000000  200.000000   603.000000    1.000000  202.000000   \n",
       "\n",
       "          Oldpeak  HeartDisease  \n",
       "count  918.000000    918.000000  \n",
       "mean     0.887364      0.553377  \n",
       "std      1.066570      0.497414  \n",
       "min     -2.600000      0.000000  \n",
       "25%      0.000000      0.000000  \n",
       "50%      0.600000      1.000000  \n",
       "75%      1.500000      1.000000  \n",
       "max      6.200000      1.000000  "
      ]
     },
     "execution_count": 365,
     "metadata": {},
     "output_type": "execute_result"
    }
   ],
   "source": [
    "heart_data.describe()"
   ]
  },
  {
   "cell_type": "code",
   "execution_count": 366,
   "id": "e660cdd9-78f1-4f46-8df3-2aa80bb1a8aa",
   "metadata": {},
   "outputs": [
    {
     "name": "stdout",
     "output_type": "stream",
     "text": [
      "<class 'pandas.core.frame.DataFrame'>\n",
      "RangeIndex: 918 entries, 0 to 917\n",
      "Data columns (total 12 columns):\n",
      " #   Column          Non-Null Count  Dtype  \n",
      "---  ------          --------------  -----  \n",
      " 0   Age             918 non-null    int64  \n",
      " 1   Sex             918 non-null    object \n",
      " 2   ChestPainType   918 non-null    object \n",
      " 3   RestingBP       918 non-null    int64  \n",
      " 4   Cholesterol     918 non-null    int64  \n",
      " 5   FastingBS       918 non-null    int64  \n",
      " 6   RestingECG      918 non-null    object \n",
      " 7   MaxHR           918 non-null    int64  \n",
      " 8   ExerciseAngina  918 non-null    object \n",
      " 9   Oldpeak         918 non-null    float64\n",
      " 10  ST_Slope        918 non-null    object \n",
      " 11  HeartDisease    918 non-null    int64  \n",
      "dtypes: float64(1), int64(6), object(5)\n",
      "memory usage: 86.2+ KB\n"
     ]
    }
   ],
   "source": [
    "heart_data.info()"
   ]
  },
  {
   "cell_type": "markdown",
   "id": "f04573e9-85e8-4f5b-afa8-9aebe569e380",
   "metadata": {},
   "source": [
    "### Male vs. Female and Heart Disease"
   ]
  },
  {
   "cell_type": "code",
   "execution_count": 367,
   "id": "1562e55c-f657-4cf5-8e13-986c12bcb198",
   "metadata": {},
   "outputs": [
    {
     "data": {
      "image/png": "[encoded data removed]",
      "text/plain": [
       "<Figure size 720x432 with 1 Axes>"
      ]
     },
     "metadata": {},
     "output_type": "display_data"
    }
   ],
   "source": [
    "sns.set(rc={\"figure.figsize\": (10, 6)})\n",
    "gender = heart_data[['Sex', 'HeartDisease']].groupby(['Sex', 'HeartDisease'])[['HeartDisease']].count()\n",
    "gender = gender.rename(columns={'HeartDisease': 'Count'}).reset_index()\n",
    "g = sns.barplot(data=gender, x='Sex', y='Count', hue='HeartDisease')"
   ]
  },
  {
   "cell_type": "markdown",
   "id": "59d4a96f-e2ec-497b-b23e-18375b7108cf",
   "metadata": {},
   "source": [
    "We can tell that from this data set, men are more likely to get a heart disease than women"
   ]
  },
  {
   "cell_type": "markdown",
   "id": "508ae2e8-eb06-42e8-9066-00ff84a5b06d",
   "metadata": {},
   "source": [
    "### ST_Slope and Heart Disease"
   ]
  },
  {
   "cell_type": "code",
   "execution_count": 368,
   "id": "bd3a9fdb-1cb3-4c79-b0b6-6eab7336f69a",
   "metadata": {},
   "outputs": [
    {
     "data": {
      "text/plain": [
       "[Text(0, 0.5, '# of People with HD'),\n",
       " Text(0.5, 1.0, 'ST_Slope vs. Heart Disease')]"
      ]
     },
     "execution_count": 368,
     "metadata": {},
     "output_type": "execute_result"
    },
    {
     "data": {
      "image/png": "[encoded data removed]",
      "text/plain": [
       "<Figure size 720x432 with 1 Axes>"
      ]
     },
     "metadata": {},
     "output_type": "display_data"
    }
   ],
   "source": [
    "sns.set()\n",
    "heart_data[['ST_Slope', 'HeartDisease']].groupby(\"ST_Slope\").sum().plot(kind='bar', figsize=(10, 6)).set(ylabel=\"# of People with HD\", title=\"ST_Slope vs. Heart Disease\")"
   ]
  },
  {
   "cell_type": "markdown",
   "id": "e0fcc25d-e308-4d23-8a59-66e744820b36",
   "metadata": {},
   "source": [
    "### ExerciseAngina and Heart Disease"
   ]
  },
  {
   "cell_type": "code",
   "execution_count": 369,
   "id": "d39980a3-b020-46ed-9e13-9ad4d7c0f637",
   "metadata": {},
   "outputs": [
    {
     "data": {
      "text/plain": [
       "[Text(0, 0.5, '# of People with HD'),\n",
       " Text(0.5, 1.0, 'ExerciseAngina vs. Heart Disease')]"
      ]
     },
     "execution_count": 369,
     "metadata": {},
     "output_type": "execute_result"
    },
    {
     "data": {
      "image/png": "[encoded data removed]",
      "text/plain": [
       "<Figure size 720x432 with 1 Axes>"
      ]
     },
     "metadata": {},
     "output_type": "display_data"
    }
   ],
   "source": [
    "sns.set()\n",
    "heart_data[['ExerciseAngina', 'HeartDisease']].groupby(\"ExerciseAngina\").sum().plot(kind='bar', figsize=(10, 6)).set(ylabel=\"# of People with HD\", title=\"ExerciseAngina vs. Heart Disease\")"
   ]
  },
  {
   "cell_type": "markdown",
   "id": "08b5175f-dd34-4a86-8121-4ccd2040c6d1",
   "metadata": {},
   "source": [
    "### Chest Pain Type ASY and Heart Disease"
   ]
  },
  {
   "cell_type": "code",
   "execution_count": 370,
   "id": "7f39f057-b936-47b3-9a4d-0ea186317a60",
   "metadata": {},
   "outputs": [
    {
     "data": {
      "text/plain": [
       "[Text(0, 0.5, '# of People with HD'),\n",
       " Text(0.5, 1.0, 'Chest Pain Type vs. Heart Disease')]"
      ]
     },
     "execution_count": 370,
     "metadata": {},
     "output_type": "execute_result"
    },
    {
     "data": {
      "image/png": "[encoded data removed]",
      "text/plain": [
       "<Figure size 720x432 with 1 Axes>"
      ]
     },
     "metadata": {},
     "output_type": "display_data"
    }
   ],
   "source": [
    "sns.set()\n",
    "heart_data[['ChestPainType', 'HeartDisease']].groupby(\"ChestPainType\").sum().plot(kind='bar', figsize=(10, 6)).set(ylabel=\"# of People with HD\", title=\"Chest Pain Type vs. Heart Disease\")"
   ]
  },
  {
   "cell_type": "markdown",
   "id": "48de0bbc-7595-4df9-8a78-85b595ed7ce8",
   "metadata": {},
   "source": [
    "### Preparing the Machine Learning Model\n",
    "This is a classification problem, so we need a classification model, NOT regression"
   ]
  },
  {
   "cell_type": "code",
   "execution_count": 371,
   "id": "aefd3353-2dee-4703-a8a3-7e92470f28e5",
   "metadata": {},
   "outputs": [],
   "source": [
    "from sklearn.linear_model import LogisticRegression\n",
    "from sklearn.preprocessing import StandardScaler\n",
    "import numpy as np\n",
    "\n",
    "independent_variables = heart_data.columns[:-1]\n",
    "target_variable = heart_data.columns[-1]\n",
    "\n",
    "x = heart_data[independent_variables]\n",
    "y = heart_data[[target_variable]]\n",
    "\n",
    "x = pd.get_dummies(x)\n",
    "x = StandardScaler().fit_transform(x)\n",
    "y = y['HeartDisease']"
   ]
  },
  {
   "cell_type": "code",
   "execution_count": 372,
   "id": "4a4e21e1-982b-425e-8b55-cad8b3c75fe4",
   "metadata": {},
   "outputs": [
    {
     "data": {
      "text/plain": [
       "0.8652173913043478"
      ]
     },
     "execution_count": 372,
     "metadata": {},
     "output_type": "execute_result"
    }
   ],
   "source": [
    "from sklearn.model_selection import train_test_split\n",
    "\n",
    "x_train, x_test, y_train, y_test = train_test_split(x, y)\n",
    "model = LogisticRegression()\n",
    "model.fit(x_train, y_train)\n",
    "\n",
    "model.score(x_test, y_test)"
   ]
  },
  {
   "cell_type": "markdown",
   "id": "33d5b8b5-9f91-4308-89f3-c58abd9b875c",
   "metadata": {},
   "source": [
    "### Feature Importance"
   ]
  },
  {
   "cell_type": "code",
   "execution_count": 373,
   "id": "8b0f2e84-5493-49a6-a58b-7a7099997767",
   "metadata": {},
   "outputs": [
    {
     "data": {
      "image/png": "[encoded data removed]",
      "text/plain": [
       "<Figure size 1008x576 with 1 Axes>"
      ]
     },
     "metadata": {},
     "output_type": "display_data"
    }
   ],
   "source": [
    "sns.set(rc={\"figure.figsize\": (14, 8)})\n",
    "importance = model.coef_\n",
    "fig = pd.DataFrame(importance, columns=pd.get_dummies(heart_data[independent_variables]).columns).plot(kind='bar').set(ylim=(-0.70, 0.70), title='Feature Importance')"
   ]
  },
  {
   "cell_type": "markdown",
   "id": "cd27f1b7-36aa-4aa2-ad85-12669de688c3",
   "metadata": {},
   "source": [
    "### Create a test dataframe with random values to predict Heart Disease\n",
    "First, create a function that will generate a dataframe with the necessary values"
   ]
  },
  {
   "cell_type": "code",
   "execution_count": 374,
   "id": "765b76cf-3c6e-4500-bc48-f4d63fc1f8cd",
   "metadata": {},
   "outputs": [],
   "source": [
    "import random\n",
    "\n",
    "def populate_test_df(dictionary=None, entries: int = 10):\n",
    "    if dictionary is None:\n",
    "       dictionary = {\"Age\": [],\n",
    "          \"Sex\": [],\n",
    "          \"ChestPainType\": [],\n",
    "          \"RestingBP\": [],\n",
    "          \"Cholesterol\": [],\n",
    "          \"FastingBS\": [],\n",
    "          \"RestingECG\": [],\n",
    "          \"MaxHR\": [],\n",
    "          \"ExerciseAngina\": [],\n",
    "          \"Oldpeak\": [],\n",
    "          \"ST_Slope\": []}\n",
    "    for i in range(entries):\n",
    "        # age between lower bound (28) and upper bound (77)\n",
    "        dictionary['Age'].append(random.choice([x for x in range(28, 78)]))\n",
    "        # sex: either male or female\n",
    "        dictionary['Sex'].append(random.choice(['M', 'F']))\n",
    "        # chest pain from used dataframe\n",
    "        dictionary['ChestPainType'].append(random.choice(heart_data['ChestPainType'].value_counts().index))\n",
    "        # RestingBP\n",
    "        dictionary['RestingBP'].append(random.choice([x for x in range(80, 201)]))\n",
    "        # Cholesterol\n",
    "        dictionary['Cholesterol'].append(random.choice([x for x in range(100, 350)]))\n",
    "        # FastingBS\n",
    "        dictionary['FastingBS'].append(random.choice([0, 1]))\n",
    "        # RestingECG\n",
    "        dictionary['RestingECG'].append(random.choice(['Normal', 'LVH', 'ST']))\n",
    "        # MaxHR\n",
    "        dictionary['MaxHR'].append(random.choice([x for x in range(60, 201)]))\n",
    "        # ExerciseAngina\n",
    "        dictionary['ExerciseAngina'].append(random.choice(['Y', 'N']))\n",
    "        # Oldpeak\n",
    "        dictionary['Oldpeak'].append(round(random.uniform(-2, 4.5), 1))\n",
    "        # ST_Slope\n",
    "        dictionary['ST_Slope'].append(random.choice(['Flat', 'Up', 'Down']))\n",
    "    return pd.DataFrame(dictionary)"
   ]
  },
  {
   "cell_type": "markdown",
   "id": "236f2909-0463-4443-8fa5-19ba5fb9f4af",
   "metadata": {},
   "source": [
    "### Check your test dataframe"
   ]
  },
  {
   "cell_type": "code",
   "execution_count": 375,
   "id": "35f3ec21-ab1d-46f9-ae6f-7e03587b86b3",
   "metadata": {},
   "outputs": [
    {
     "data": {
      "text/html": [
       "<div>\n",
       "<style scoped>\n",
       "    .dataframe tbody tr th:only-of-type {\n",
       "        vertical-align: middle;\n",
       "    }\n",
       "\n",
       "    .dataframe tbody tr th {\n",
       "        vertical-align: top;\n",
       "    }\n",
       "\n",
       "    .dataframe thead th {\n",
       "        text-align: right;\n",
       "    }\n",
       "</style>\n",
       "<table border=\"1\" class=\"dataframe\">\n",
       "  <thead>\n",
       "    <tr style=\"text-align: right;\">\n",
       "      <th></th>\n",
       "      <th>Age</th>\n",
       "      <th>Sex</th>\n",
       "      <th>ChestPainType</th>\n",
       "      <th>RestingBP</th>\n",
       "      <th>Cholesterol</th>\n",
       "      <th>FastingBS</th>\n",
       "      <th>RestingECG</th>\n",
       "      <th>MaxHR</th>\n",
       "      <th>ExerciseAngina</th>\n",
       "      <th>Oldpeak</th>\n",
       "      <th>ST_Slope</th>\n",
       "    </tr>\n",
       "  </thead>\n",
       "  <tbody>\n",
       "    <tr>\n",
       "      <th>0</th>\n",
       "      <td>75</td>\n",
       "      <td>M</td>\n",
       "      <td>NAP</td>\n",
       "      <td>125</td>\n",
       "      <td>323</td>\n",
       "      <td>0</td>\n",
       "      <td>Normal</td>\n",
       "      <td>181</td>\n",
       "      <td>Y</td>\n",
       "      <td>2.9</td>\n",
       "      <td>Down</td>\n",
       "    </tr>\n",
       "    <tr>\n",
       "      <th>1</th>\n",
       "      <td>75</td>\n",
       "      <td>F</td>\n",
       "      <td>NAP</td>\n",
       "      <td>94</td>\n",
       "      <td>170</td>\n",
       "      <td>1</td>\n",
       "      <td>Normal</td>\n",
       "      <td>78</td>\n",
       "      <td>Y</td>\n",
       "      <td>-1.2</td>\n",
       "      <td>Down</td>\n",
       "    </tr>\n",
       "    <tr>\n",
       "      <th>2</th>\n",
       "      <td>60</td>\n",
       "      <td>M</td>\n",
       "      <td>TA</td>\n",
       "      <td>106</td>\n",
       "      <td>185</td>\n",
       "      <td>1</td>\n",
       "      <td>ST</td>\n",
       "      <td>135</td>\n",
       "      <td>N</td>\n",
       "      <td>-1.7</td>\n",
       "      <td>Flat</td>\n",
       "    </tr>\n",
       "    <tr>\n",
       "      <th>3</th>\n",
       "      <td>72</td>\n",
       "      <td>F</td>\n",
       "      <td>ASY</td>\n",
       "      <td>132</td>\n",
       "      <td>197</td>\n",
       "      <td>0</td>\n",
       "      <td>Normal</td>\n",
       "      <td>200</td>\n",
       "      <td>Y</td>\n",
       "      <td>2.6</td>\n",
       "      <td>Flat</td>\n",
       "    </tr>\n",
       "    <tr>\n",
       "      <th>4</th>\n",
       "      <td>62</td>\n",
       "      <td>F</td>\n",
       "      <td>ATA</td>\n",
       "      <td>96</td>\n",
       "      <td>117</td>\n",
       "      <td>0</td>\n",
       "      <td>Normal</td>\n",
       "      <td>145</td>\n",
       "      <td>N</td>\n",
       "      <td>0.4</td>\n",
       "      <td>Down</td>\n",
       "    </tr>\n",
       "  </tbody>\n",
       "</table>\n",
       "</div>"
      ],
      "text/plain": [
       "   Age Sex ChestPainType  RestingBP  Cholesterol  FastingBS RestingECG  MaxHR  \\\n",
       "0   75   M           NAP        125          323          0     Normal    181   \n",
       "1   75   F           NAP         94          170          1     Normal     78   \n",
       "2   60   M            TA        106          185          1         ST    135   \n",
       "3   72   F           ASY        132          197          0     Normal    200   \n",
       "4   62   F           ATA         96          117          0     Normal    145   \n",
       "\n",
       "  ExerciseAngina  Oldpeak ST_Slope  \n",
       "0              Y      2.9     Down  \n",
       "1              Y     -1.2     Down  \n",
       "2              N     -1.7     Flat  \n",
       "3              Y      2.6     Flat  \n",
       "4              N      0.4     Down  "
      ]
     },
     "execution_count": 375,
     "metadata": {},
     "output_type": "execute_result"
    }
   ],
   "source": [
    "test_df = populate_test_df(entries=1000)\n",
    "test_df.head()"
   ]
  },
  {
   "cell_type": "markdown",
   "id": "a12f60e5-0bf8-4bd7-b86c-6afbda14a092",
   "metadata": {},
   "source": [
    "### Create a function to turn your data to fit your ML model"
   ]
  },
  {
   "cell_type": "code",
   "execution_count": 376,
   "id": "825e8516-b60b-4eae-a3cd-fb5bb64b1837",
   "metadata": {},
   "outputs": [],
   "source": [
    "def transform(df):\n",
    "    \"\"\"\n",
    "    This transforms the dataframe directly into the test format for the model\n",
    "    \"\"\"\n",
    "    x = df[df.columns[:]]\n",
    "    x = pd.get_dummies(x)\n",
    "    \n",
    "    dummies_cols = ['Age', 'RestingBP', 'Cholesterol', 'FastingBS', 'MaxHR', 'Oldpeak',\n",
    "       'Sex_F', 'Sex_M', 'ChestPainType_ASY', 'ChestPainType_ATA',\n",
    "       'ChestPainType_NAP', 'ChestPainType_TA', 'RestingECG_LVH',\n",
    "       'RestingECG_Normal', 'RestingECG_ST', 'ExerciseAngina_N',\n",
    "       'ExerciseAngina_Y', 'ST_Slope_Down', 'ST_Slope_Flat', 'ST_Slope_Up']\n",
    "    \n",
    "    final_df = pd.DataFrame(columns=dummies_cols)\n",
    "    final_df = final_df.append(x)\n",
    "    final_df = StandardScaler().fit_transform(final_df)\n",
    "    return final_df"
   ]
  },
  {
   "cell_type": "markdown",
   "id": "31d0a914-2c9f-48d7-b7d7-428c3340bd48",
   "metadata": {},
   "source": [
    "### Get Your Output"
   ]
  },
  {
   "cell_type": "code",
   "execution_count": 377,
   "id": "334ad975-b0fa-4ead-abd5-53c081a00c7d",
   "metadata": {},
   "outputs": [],
   "source": [
    "test = transform(test_df)\n",
    "predictions = model.predict(test)\n",
    "predicted_outcome = pd.DataFrame(columns=['Predicted_HeartDisease'], data=predictions)"
   ]
  },
  {
   "cell_type": "markdown",
   "id": "a52c5dae-603a-4859-b6b9-e93a5e14925f",
   "metadata": {},
   "source": [
    "### Merge the Two Dataframes"
   ]
  },
  {
   "cell_type": "code",
   "execution_count": 378,
   "id": "7872a590-7f60-41cd-b270-cb5c58f63158",
   "metadata": {},
   "outputs": [
    {
     "data": {
      "text/html": [
       "<div>\n",
       "<style scoped>\n",
       "    .dataframe tbody tr th:only-of-type {\n",
       "        vertical-align: middle;\n",
       "    }\n",
       "\n",
       "    .dataframe tbody tr th {\n",
       "        vertical-align: top;\n",
       "    }\n",
       "\n",
       "    .dataframe thead th {\n",
       "        text-align: right;\n",
       "    }\n",
       "</style>\n",
       "<table border=\"1\" class=\"dataframe\">\n",
       "  <thead>\n",
       "    <tr style=\"text-align: right;\">\n",
       "      <th></th>\n",
       "      <th>Age</th>\n",
       "      <th>Sex</th>\n",
       "      <th>ChestPainType</th>\n",
       "      <th>RestingBP</th>\n",
       "      <th>Cholesterol</th>\n",
       "      <th>FastingBS</th>\n",
       "      <th>RestingECG</th>\n",
       "      <th>MaxHR</th>\n",
       "      <th>ExerciseAngina</th>\n",
       "      <th>Oldpeak</th>\n",
       "      <th>ST_Slope</th>\n",
       "      <th>Predicted_HeartDisease</th>\n",
       "    </tr>\n",
       "  </thead>\n",
       "  <tbody>\n",
       "    <tr>\n",
       "      <th>0</th>\n",
       "      <td>75</td>\n",
       "      <td>M</td>\n",
       "      <td>NAP</td>\n",
       "      <td>125</td>\n",
       "      <td>323</td>\n",
       "      <td>0</td>\n",
       "      <td>Normal</td>\n",
       "      <td>181</td>\n",
       "      <td>Y</td>\n",
       "      <td>2.9</td>\n",
       "      <td>Down</td>\n",
       "      <td>0</td>\n",
       "    </tr>\n",
       "    <tr>\n",
       "      <th>1</th>\n",
       "      <td>75</td>\n",
       "      <td>F</td>\n",
       "      <td>NAP</td>\n",
       "      <td>94</td>\n",
       "      <td>170</td>\n",
       "      <td>1</td>\n",
       "      <td>Normal</td>\n",
       "      <td>78</td>\n",
       "      <td>Y</td>\n",
       "      <td>-1.2</td>\n",
       "      <td>Down</td>\n",
       "      <td>1</td>\n",
       "    </tr>\n",
       "    <tr>\n",
       "      <th>2</th>\n",
       "      <td>60</td>\n",
       "      <td>M</td>\n",
       "      <td>TA</td>\n",
       "      <td>106</td>\n",
       "      <td>185</td>\n",
       "      <td>1</td>\n",
       "      <td>ST</td>\n",
       "      <td>135</td>\n",
       "      <td>N</td>\n",
       "      <td>-1.7</td>\n",
       "      <td>Flat</td>\n",
       "      <td>1</td>\n",
       "    </tr>\n",
       "    <tr>\n",
       "      <th>3</th>\n",
       "      <td>72</td>\n",
       "      <td>F</td>\n",
       "      <td>ASY</td>\n",
       "      <td>132</td>\n",
       "      <td>197</td>\n",
       "      <td>0</td>\n",
       "      <td>Normal</td>\n",
       "      <td>200</td>\n",
       "      <td>Y</td>\n",
       "      <td>2.6</td>\n",
       "      <td>Flat</td>\n",
       "      <td>1</td>\n",
       "    </tr>\n",
       "    <tr>\n",
       "      <th>4</th>\n",
       "      <td>62</td>\n",
       "      <td>F</td>\n",
       "      <td>ATA</td>\n",
       "      <td>96</td>\n",
       "      <td>117</td>\n",
       "      <td>0</td>\n",
       "      <td>Normal</td>\n",
       "      <td>145</td>\n",
       "      <td>N</td>\n",
       "      <td>0.4</td>\n",
       "      <td>Down</td>\n",
       "      <td>0</td>\n",
       "    </tr>\n",
       "    <tr>\n",
       "      <th>...</th>\n",
       "      <td>...</td>\n",
       "      <td>...</td>\n",
       "      <td>...</td>\n",
       "      <td>...</td>\n",
       "      <td>...</td>\n",
       "      <td>...</td>\n",
       "      <td>...</td>\n",
       "      <td>...</td>\n",
       "      <td>...</td>\n",
       "      <td>...</td>\n",
       "      <td>...</td>\n",
       "      <td>...</td>\n",
       "    </tr>\n",
       "    <tr>\n",
       "      <th>995</th>\n",
       "      <td>65</td>\n",
       "      <td>M</td>\n",
       "      <td>NAP</td>\n",
       "      <td>151</td>\n",
       "      <td>155</td>\n",
       "      <td>1</td>\n",
       "      <td>LVH</td>\n",
       "      <td>199</td>\n",
       "      <td>Y</td>\n",
       "      <td>3.3</td>\n",
       "      <td>Up</td>\n",
       "      <td>1</td>\n",
       "    </tr>\n",
       "    <tr>\n",
       "      <th>996</th>\n",
       "      <td>35</td>\n",
       "      <td>F</td>\n",
       "      <td>ATA</td>\n",
       "      <td>179</td>\n",
       "      <td>165</td>\n",
       "      <td>0</td>\n",
       "      <td>Normal</td>\n",
       "      <td>71</td>\n",
       "      <td>Y</td>\n",
       "      <td>1.6</td>\n",
       "      <td>Up</td>\n",
       "      <td>0</td>\n",
       "    </tr>\n",
       "    <tr>\n",
       "      <th>997</th>\n",
       "      <td>48</td>\n",
       "      <td>M</td>\n",
       "      <td>TA</td>\n",
       "      <td>118</td>\n",
       "      <td>141</td>\n",
       "      <td>1</td>\n",
       "      <td>ST</td>\n",
       "      <td>60</td>\n",
       "      <td>N</td>\n",
       "      <td>1.1</td>\n",
       "      <td>Up</td>\n",
       "      <td>1</td>\n",
       "    </tr>\n",
       "    <tr>\n",
       "      <th>998</th>\n",
       "      <td>61</td>\n",
       "      <td>M</td>\n",
       "      <td>ASY</td>\n",
       "      <td>180</td>\n",
       "      <td>191</td>\n",
       "      <td>0</td>\n",
       "      <td>Normal</td>\n",
       "      <td>121</td>\n",
       "      <td>Y</td>\n",
       "      <td>1.3</td>\n",
       "      <td>Flat</td>\n",
       "      <td>1</td>\n",
       "    </tr>\n",
       "    <tr>\n",
       "      <th>999</th>\n",
       "      <td>42</td>\n",
       "      <td>F</td>\n",
       "      <td>ATA</td>\n",
       "      <td>159</td>\n",
       "      <td>298</td>\n",
       "      <td>1</td>\n",
       "      <td>Normal</td>\n",
       "      <td>187</td>\n",
       "      <td>Y</td>\n",
       "      <td>1.7</td>\n",
       "      <td>Down</td>\n",
       "      <td>0</td>\n",
       "    </tr>\n",
       "  </tbody>\n",
       "</table>\n",
       "<p>1000 rows × 12 columns</p>\n",
       "</div>"
      ],
      "text/plain": [
       "     Age Sex ChestPainType  RestingBP  Cholesterol  FastingBS RestingECG  \\\n",
       "0     75   M           NAP        125          323          0     Normal   \n",
       "1     75   F           NAP         94          170          1     Normal   \n",
       "2     60   M            TA        106          185          1         ST   \n",
       "3     72   F           ASY        132          197          0     Normal   \n",
       "4     62   F           ATA         96          117          0     Normal   \n",
       "..   ...  ..           ...        ...          ...        ...        ...   \n",
       "995   65   M           NAP        151          155          1        LVH   \n",
       "996   35   F           ATA        179          165          0     Normal   \n",
       "997   48   M            TA        118          141          1         ST   \n",
       "998   61   M           ASY        180          191          0     Normal   \n",
       "999   42   F           ATA        159          298          1     Normal   \n",
       "\n",
       "     MaxHR ExerciseAngina  Oldpeak ST_Slope  Predicted_HeartDisease  \n",
       "0      181              Y      2.9     Down                       0  \n",
       "1       78              Y     -1.2     Down                       1  \n",
       "2      135              N     -1.7     Flat                       1  \n",
       "3      200              Y      2.6     Flat                       1  \n",
       "4      145              N      0.4     Down                       0  \n",
       "..     ...            ...      ...      ...                     ...  \n",
       "995    199              Y      3.3       Up                       1  \n",
       "996     71              Y      1.6       Up                       0  \n",
       "997     60              N      1.1       Up                       1  \n",
       "998    121              Y      1.3     Flat                       1  \n",
       "999    187              Y      1.7     Down                       0  \n",
       "\n",
       "[1000 rows x 12 columns]"
      ]
     },
     "execution_count": 378,
     "metadata": {},
     "output_type": "execute_result"
    }
   ],
   "source": [
    "result = pd.concat([test_df, predicted_outcome], axis=1)\n",
    "result"
   ]
  },
  {
   "cell_type": "markdown",
   "id": "69ca7286-2792-4463-8579-0768d63a3c3f",
   "metadata": {},
   "source": [
    "### Compare Visualizations"
   ]
  },
  {
   "cell_type": "code",
   "execution_count": 379,
   "id": "494bd85b-e454-4c5a-8273-ac98553c5290",
   "metadata": {},
   "outputs": [
    {
     "data": {
      "image/png": "[encoded data removed]",
      "text/plain": [
       "<Figure size 720x432 with 1 Axes>"
      ]
     },
     "metadata": {},
     "output_type": "display_data"
    }
   ],
   "source": [
    "sns.set(rc={\"figure.figsize\": (10, 6)})\n",
    "gender = result[['Sex', 'Predicted_HeartDisease']].groupby(['Sex', 'Predicted_HeartDisease'])[['Predicted_HeartDisease']].count()\n",
    "gender = gender.rename(columns={'Predicted_HeartDisease': 'Count'}).reset_index()\n",
    "g = sns.barplot(data=gender, x='Sex', y='Count', hue='Predicted_HeartDisease')"
   ]
  },
  {
   "cell_type": "code",
   "execution_count": 380,
   "id": "bbaba14d-1deb-4726-ba45-756123f1dee5",
   "metadata": {},
   "outputs": [
    {
     "data": {
      "text/plain": [
       "[Text(0, 0.5, '# of People with HD'),\n",
       " Text(0.5, 1.0, 'ST_Slope vs. Heart Disease')]"
      ]
     },
     "execution_count": 380,
     "metadata": {},
     "output_type": "execute_result"
    },
    {
     "data": {
      "image/png": "[encoded data removed]",
      "text/plain": [
       "<Figure size 720x432 with 1 Axes>"
      ]
     },
     "metadata": {},
     "output_type": "display_data"
    }
   ],
   "source": [
    "sns.set()\n",
    "result[['ST_Slope', 'Predicted_HeartDisease']].groupby(\"ST_Slope\").sum().plot(kind='bar', figsize=(10, 6)).set(ylabel=\"# of People with HD\", title=\"ST_Slope vs. Heart Disease\")"
   ]
  },
  {
   "cell_type": "code",
   "execution_count": 381,
   "id": "a1aa529d-483f-40e8-845b-1ffc16346c0a",
   "metadata": {},
   "outputs": [
    {
     "data": {
      "text/plain": [
       "[Text(0, 0.5, '# of People with HD'),\n",
       " Text(0.5, 1.0, 'ExerciseAngina vs. Heart Disease')]"
      ]
     },
     "execution_count": 381,
     "metadata": {},
     "output_type": "execute_result"
    },
    {
     "data": {
      "image/png": "[encoded data removed]",
      "text/plain": [
       "<Figure size 720x432 with 1 Axes>"
      ]
     },
     "metadata": {},
     "output_type": "display_data"
    }
   ],
   "source": [
    "sns.set()\n",
    "result[['ExerciseAngina', 'Predicted_HeartDisease']].groupby(\"ExerciseAngina\").sum().plot(kind='bar', figsize=(10, 6)).set(ylabel=\"# of People with HD\", title=\"ExerciseAngina vs. Heart Disease\")"
   ]
  },
  {
   "cell_type": "code",
   "execution_count": 382,
   "id": "5847af47-7d2b-4075-b823-e54806d804de",
   "metadata": {},
   "outputs": [
    {
     "data": {
      "text/plain": [
       "[Text(0, 0.5, '# of People with HD'),\n",
       " Text(0.5, 1.0, 'Chest Pain Type vs. Heart Disease')]"
      ]
     },
     "execution_count": 382,
     "metadata": {},
     "output_type": "execute_result"
    },
    {
     "data": {
      "image/png": "[encoded data removed]",
      "text/plain": [
       "<Figure size 720x432 with 1 Axes>"
      ]
     },
     "metadata": {},
     "output_type": "display_data"
    }
   ],
   "source": [
    "sns.set()\n",
    "result[['ChestPainType', 'Predicted_HeartDisease']].groupby(\"ChestPainType\").sum().plot(kind='bar', figsize=(10, 6)).set(ylabel=\"# of People with HD\", title=\"Chest Pain Type vs. Heart Disease\")"
   ]
  },
  {
   "cell_type": "markdown",
   "id": "a2c237b6-e030-485f-ac36-1b5cc7a034c0",
   "metadata": {},
   "source": [
    "## Findings\n",
    "Based on the **initial explortion** of the data, the following were hypothesized:\n",
    "- Males were more likely to have a heart disease than compared to females\n",
    "- People with a flat or downward sloping ST_Slope could be linked to a heart disease\n",
    "- People with exercise angina could be linked to a heart disease\n",
    "- People with chest pain type ASY could be liked to a heart disease\n",
    "\n",
    "When **creating the machine learning model**, a logistic regression was used to generate yes (1) or no (0) values, since this was identified   \n",
    "as a classification problem. When computing the accuracy of the ML model, it generated a **score > 82** for consecutive runs.\n",
    "\n",
    "When creating a set of data to test the predictions, our findings were as follows:\n",
    "- Males were more likely to have a heart disease than compared to women\n",
    "    - And conversely, women were more likely to **NOT** have a heart disease than compared to men\n",
    "- People with a flat or downward sloping ST_Slope could be linked to a heart disease\n",
    "    - **Flat** and having a heart disease was much more prevalent than downward or upward\n",
    "- People with exercise angina could be linked to a heart disease\n",
    "- People with chest pain type ASY could be linked to a heart disease\n",
    "\n",
    "When using my own randomly generated sample of 1000 patients, the initial hypotheses were proved to hold some truth. Overall  \n",
    "it appears that, with this set of data and features, the best feature that could predict if a patient has a heart disease  \n",
    "is a flat ST slope.\n",
    "\n",
    "\n",
    "#### Disclaimer\n",
    "My findings were not and are not to be used to diagnose real patients. This is just a practice example to showcase my knowledge   \n",
    "and understanding of ML models and data."
   ]
  }
 ],
 "metadata": {
  "kernelspec": {
   "display_name": "Python 3",
   "language": "python",
   "name": "python3"
  },
  "language_info": {
   "codemirror_mode": {
    "name": "ipython",
    "version": 3
   },
   "file_extension": ".py",
   "mimetype": "text/x-python",
   "name": "python",
   "nbconvert_exporter": "python",
   "pygments_lexer": "ipython3",
   "version": "3.8.8"
  }
 },
 "nbformat": 4,
 "nbformat_minor": 5
}
